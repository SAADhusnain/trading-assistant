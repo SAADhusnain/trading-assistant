{
 "cells": [
  {
   "cell_type": "code",
   "execution_count": null,
   "id": "4d0def96",
   "metadata": {},
   "outputs": [],
   "source": [
    "import pandas as pd\n",
    "import numpy as np\n",
    "import matplotlib.pyplot as plt\n",
    "import sys\n",
    "sys.path.append('..')\n",
    "\n",
    "from src.data.collector import DataCollector\n",
    "from src.data.processor import DataProcessor\n",
    "from src.models.baseline import BaselineModelTrainer\n",
    "from sklearn.metrics import confusion_matrix, ConfusionMatrixDisplay"
   ]
  },
  {
   "cell_type": "code",
   "execution_count": null,
   "id": "7d025d57",
   "metadata": {},
   "outputs": [],
   "source": [
    "collector = DataCollector()\n",
    "df = collector.fetch_historical_data('AAPL', interval='5m', period='60d', save=False)\n",
    "\n",
    "processor = DataProcessor()\n",
    "df_processed, features = processor.process_pipeline(df, save=False)\n",
    "\n",
    "print(f\"Data shape: {df_processed.shape}\")\n",
    "print(f\"Features: {len(features)}\")"
   ]
  },
  {
   "cell_type": "code",
   "execution_count": null,
   "id": "4609e961",
   "metadata": {},
   "outputs": [],
   "source": [
    "trainer = BaselineModelTrainer()\n",
    "trainer.prepare_data(df_processed, features, test_size=0.2, use_time_split=True)\n",
    "trainer.train_all_models()"
   ]
  },
  {
   "cell_type": "code",
   "execution_count": null,
   "id": "a4678d9f",
   "metadata": {},
   "outputs": [],
   "source": [
    "trainer.print_comparison()"
   ]
  },
  {
   "cell_type": "code",
   "execution_count": null,
   "id": "234d101e",
   "metadata": {},
   "outputs": [],
   "source": [
    "feature_imp = trainer.get_feature_importance('Random Forest', top_n=20)\n",
    "\n",
    "plt.figure(figsize=(10, 8))\n",
    "plt.barh(range(20), feature_imp.head(20)['importance'])\n",
    "plt.yticks(range(20), feature_imp.head(20)['feature'])\n",
    "plt.xlabel('Importance')\n",
    "plt.title('Top 20 Feature Importance')\n",
    "plt.tight_layout()\n",
    "plt.show()"
   ]
  },
  {
   "cell_type": "code",
   "execution_count": null,
   "id": "a43b4b63",
   "metadata": {},
   "outputs": [],
   "source": [
    "best_name, best_model = trainer.get_best_model()\n",
    "predictions = trainer.results[best_name]['predictions']\n",
    "\n",
    "cm = confusion_matrix(trainer.y_test, predictions)\n",
    "disp = ConfusionMatrixDisplay(confusion_matrix=cm, display_labels=['Down', 'Up'])\n",
    "disp.plot(cmap='Blues')\n",
    "plt.title(f'Confusion Matrix - {best_name}')\n",
    "plt.show()"
   ]
  },
  {
   "cell_type": "code",
   "execution_count": null,
   "id": "edf2ac1e",
   "metadata": {},
   "outputs": [],
   "source": [
    "probabilities = trainer.results[best_name]['probabilities']\n",
    "\n",
    "plt.figure(figsize=(12, 5))\n",
    "plt.subplot(1, 2, 1)\n",
    "plt.hist(probabilities, bins=50)\n",
    "plt.title('Prediction Probability Distribution')\n",
    "plt.xlabel('Probability')\n",
    "plt.ylabel('Frequency')\n",
    "\n",
    "plt.subplot(1, 2, 2)\n",
    "plt.scatter(range(len(probabilities)), probabilities, alpha=0.5)\n",
    "plt.axhline(y=0.5, color='r', linestyle='--', label='Decision Boundary')\n",
    "plt.axhline(y=0.6, color='g', linestyle='--', label='Conservative Threshold')\n",
    "plt.title('Prediction Probabilities Over Time')\n",
    "plt.xlabel('Sample')\n",
    "plt.ylabel('Probability')\n",
    "plt.legend()\n",
    "plt.tight_layout()\n",
    "plt.show()"
   ]
  },
  {
   "cell_type": "code",
   "execution_count": null,
   "id": "74dc5651",
   "metadata": {},
   "outputs": [],
   "source": [
    "trainer.save_models()\n",
    "print(\"Models saved successfully!\")"
   ]
  }
 ],
 "metadata": {
  "language_info": {
   "name": "python"
  }
 },
 "nbformat": 4,
 "nbformat_minor": 5
}
