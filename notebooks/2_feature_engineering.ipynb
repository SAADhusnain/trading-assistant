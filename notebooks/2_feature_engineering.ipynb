{
 "cells": [
  {
   "cell_type": "code",
   "execution_count": null,
   "id": "b746e17d",
   "metadata": {},
   "outputs": [],
   "source": [
    "import pandas as pd\n",
    "import numpy as np\n",
    "import matplotlib.pyplot as plt\n",
    "import sys\n",
    "sys.path.append('..')\n",
    "\n",
    "from src.data.collector import DataCollector\n",
    "from src.data.processor import DataProcessor\n"
   ]
  },
  {
   "cell_type": "code",
   "execution_count": null,
   "id": "000e136e",
   "metadata": {},
   "outputs": [],
   "source": [
    "collector = DataCollector()\n",
    "df = collector.fetch_historical_data('AAPL', interval='5m', period='30d', save=False)"
   ]
  },
  {
   "cell_type": "code",
   "execution_count": null,
   "id": "3b040a4f",
   "metadata": {},
   "outputs": [],
   "source": [
    "processor = DataProcessor()\n",
    "df_clean = processor.clean_data(df)\n",
    "print(f\"Cleaned data: {len(df_clean)} records\")"
   ]
  },
  {
   "cell_type": "code",
   "execution_count": null,
   "id": "91be72bf",
   "metadata": {},
   "outputs": [],
   "source": [
    "df_indicators = processor.add_technical_indicators(df_clean)\n",
    "print(f\"Total columns: {len(df_indicators.columns)}\")\n",
    "print(\"New indicators:\", [col for col in df_indicators.columns if col not in df.columns])"
   ]
  },
  {
   "cell_type": "code",
   "execution_count": null,
   "id": "1bee8f4f",
   "metadata": {},
   "outputs": [],
   "source": [
    "plt.figure(figsize=(14, 6))\n",
    "plt.subplot(2, 1, 1)\n",
    "plt.plot(df_indicators.index, df_indicators['Close'])\n",
    "plt.title('Price')\n",
    "\n",
    "plt.subplot(2, 1, 2)\n",
    "plt.plot(df_indicators.index, df_indicators['RSI_14'])\n",
    "plt.axhline(y=70, color='r', linestyle='--', label='Overbought')\n",
    "plt.axhline(y=30, color='g', linestyle='--', label='Oversold')\n",
    "plt.title('RSI Indicator')\n",
    "plt.legend()\n",
    "plt.tight_layout()\n",
    "plt.show()"
   ]
  },
  {
   "cell_type": "code",
   "execution_count": null,
   "id": "cc6056a8",
   "metadata": {},
   "outputs": [],
   "source": [
    "plt.figure(figsize=(14, 8))\n",
    "plt.subplot(2, 1, 1)\n",
    "plt.plot(df_indicators.index, df_indicators['Close'])\n",
    "plt.title('Price')\n",
    "\n",
    "plt.subplot(2, 1, 2)\n",
    "plt.plot(df_indicators.index, df_indicators['MACD'], label='MACD')\n",
    "plt.plot(df_indicators.index, df_indicators['MACD_Signal'], label='Signal')\n",
    "plt.bar(df_indicators.index, df_indicators['MACD_Hist'], alpha=0.3, label='Histogram')\n",
    "plt.title('MACD Indicator')\n",
    "plt.legend()\n",
    "plt.tight_layout()\n",
    "plt.show()"
   ]
  },
  {
   "cell_type": "code",
   "execution_count": null,
   "id": "2b43d7ed",
   "metadata": {},
   "outputs": [],
   "source": [
    "df_labeled = processor.create_labels(df_indicators, lookahead=1, threshold=0.0)\n",
    "print(\"Label distribution:\")\n",
    "print(df_labeled['Target'].value_counts(normalize=True))"
   ]
  },
  {
   "cell_type": "code",
   "execution_count": null,
   "id": "7acb1333",
   "metadata": {},
   "outputs": [],
   "source": [
    "features = [col for col in df_labeled.columns if col not in ['Target', 'Future_Close', 'Future_Return']]\n",
    "correlations = df_labeled[features + ['Target']].corr()['Target'].sort_values(ascending=False)\n",
    "print(\"Top 10 correlations with target:\")\n",
    "print(correlations.head(10))"
   ]
  }
 ],
 "metadata": {
  "language_info": {
   "name": "python"
  }
 },
 "nbformat": 4,
 "nbformat_minor": 5
}
